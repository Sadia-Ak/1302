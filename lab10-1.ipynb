{
 "cells": [
  {
   "cell_type": "code",
   "execution_count": 2,
   "metadata": {},
   "outputs": [],
   "source": [
    "import pandas as pd\n"
   ]
  },
  {
   "cell_type": "code",
   "execution_count": 3,
   "metadata": {},
   "outputs": [],
   "source": [
    "data = {'Points': [876, 789, 863, 673, 741, 812, 756, 788, 694, 701, 804, 690],\n",
    "        'Ranking': [1, 2, 2, 3, 3, 4, 1, 1, 2, 4, 1, 2],\n",
    "        'Team': ['red', 'red', 'blue', 'green', 'yellow', 'red', 'blue', 'green', 'yellow', 'yellow', 'red', 'blue'],\n",
    "        'year': [2014, 2015, 2014, 2015, 2014, 2015, 2016, 2017, 2016, 2014, 2015, 2017],\n",
    "        'MVP': ['Kevin', 'Kevin', 'mike', 'john', 'parth', 'mark', 'Aron', 'neil', 'edward', 'max', 'neil', 'john']}\n"
   ]
  },
  {
   "cell_type": "code",
   "execution_count": 4,
   "metadata": {},
   "outputs": [
    {
     "name": "stdout",
     "output_type": "stream",
     "text": [
      "      Points  Ranking   Team    MVP\n",
      "year                               \n",
      "2014    3181      2.5    red  Kevin\n",
      "2015    3078      2.5    red  Kevin\n",
      "2016    1450      1.5   blue   Aron\n",
      "2017    1478      1.5  green   neil\n"
     ]
    }
   ],
   "source": [
    "df = pd.DataFrame(data)\n",
    "grouped = df.groupby('year')\n",
    "grouped_df = grouped.agg({'Points': 'sum',\n",
    "                           'Ranking': 'mean',\n",
    "                           'Team': lambda x: x.iloc[0],\n",
    "                           'MVP': lambda x: x.iloc[0]})\n",
    "print(grouped_df)"
   ]
  }
 ],
 "metadata": {
  "kernelspec": {
   "display_name": "Python 3",
   "language": "python",
   "name": "python3"
  },
  "language_info": {
   "codemirror_mode": {
    "name": "ipython",
    "version": 3
   },
   "file_extension": ".py",
   "mimetype": "text/x-python",
   "name": "python",
   "nbconvert_exporter": "python",
   "pygments_lexer": "ipython3",
   "version": "3.10.6"
  },
  "orig_nbformat": 4
 },
 "nbformat": 4,
 "nbformat_minor": 2
}
